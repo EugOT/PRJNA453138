version https://git-lfs.github.com/spec/v1
oid sha256:8e130215d28a9f8df0d16cfe22fb43c629917d0296d59e8d3c52091fbdfc0d40
size 27086882
