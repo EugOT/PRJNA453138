version https://git-lfs.github.com/spec/v1
oid sha256:efe5c48e5466f7a452e3c5f534d528d1b4fde5f147eec0f820c89e135d2d7e2c
size 43895917
